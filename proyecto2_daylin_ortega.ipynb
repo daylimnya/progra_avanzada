{
  "nbformat": 4,
  "nbformat_minor": 0,
  "metadata": {
    "colab": {
      "provenance": []
    },
    "kernelspec": {
      "name": "python3",
      "display_name": "Python 3"
    },
    "language_info": {
      "name": "python"
    }
  },
  "cells": [
    {
      "cell_type": "markdown",
      "source": [
        "# Proyecto 2: Formato de texto\n",
        "\n",
        "### Estudiante: Daylin Ortega.\n",
        "### Profesores: Shaharyar Kamal, Jorge Sandoval.\n",
        "### Auxiliar: Ariel Núñez.\n",
        "### Ayudantes: Agustín González, Martín Moreno, Diego Torreblanca."
      ],
      "metadata": {
        "id": "qkP0JIpTf9c4"
      }
    },
    {
      "cell_type": "code",
      "source": [
        "from typing import List"
      ],
      "metadata": {
        "id": "m1QDk01DrIe3"
      },
      "execution_count": 6,
      "outputs": []
    },
    {
      "cell_type": "code",
      "execution_count": 11,
      "metadata": {
        "id": "OYOeB8DAfiLx"
      },
      "outputs": [],
      "source": [
        "# Format text: utilizando concepto de Programación Dinámica\n",
        "\n",
        "\n",
        "def wordBreak(wordList, word):\n",
        "    if word == '':\n",
        "        return True\n",
        "    else:\n",
        "        wordLen = len(word)\n",
        "        return any([(word[:i] in wordList) and wordBreak(wordList, word[i:]) for i in range(1, wordLen+1)])\n",
        "\n",
        "def format_text(text: str, maxWidth: int) -> list[str]:\n",
        "    \"\"\"\n",
        "    format_text_LCS: formatea el texto de tal manera que cada línea contiene\n",
        "    un máximo de carácteres (maxWidth), dejando cada línea completamente\n",
        "    justificada (excepto la última línea) y añadiendo espacios adicionales\n",
        "    entre las palabras.  Esto, utilizando el concepto de programación dinámica.\n",
        "\n",
        "    \"\"\"\n",
        "    m = len(text)\n",
        "    wordList = text.split()\n",
        "    words = text.replace(' ', '')\n",
        "    # indice fin linea\n",
        "    i = maxWidth\n",
        "    p = text[:i].replace(' ', '')\n",
        "\n",
        "    while not wordBreak(words, p):\n",
        "        p = p[:-1]\n",
        "        i -= 1\n",
        "\n",
        "    # string sin los espacios extra\n",
        "    line = text[:i-1]\n",
        "\n",
        "    # número de espacios extra por espacio existente\n",
        "    space = (maxWidth-len(line))/line.count(' ')\n",
        "    line = line.split()\n",
        "    new_line = ' '\n",
        "    for i in range(len(line)):\n",
        "        new_line.append(line[i])\n",
        "        if i < len(line):\n",
        "          new_line.append(space*' ')\n",
        "\n"
      ]
    }
  ]
}